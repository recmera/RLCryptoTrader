{
 "cells": [
  {
   "cell_type": "code",
   "execution_count": null,
   "id": "9b5de0a5",
   "metadata": {},
   "outputs": [],
   "source": [
    "import plotly.graph_objects as go\n",
    "import requests\n",
    "\n",
    "# URL de la API de Binance para obtener el precio de BTC/USDT cada minuto\n",
    "url = 'https://api.binance.com/api/v3/klines?symbol=BTCUSDT&interval=1m'\n",
    "\n",
    "# Realizar solicitud GET a la API\n",
    "response = requests.get(url)\n",
    "\n",
    "# Obtener los precios y fechas de los datos recibidos\n",
    "prices = []\n",
    "dates = []\n",
    "for kline in response.json():\n",
    "    prices.append(float(kline[4]))\n",
    "    dates.append(kline[0])\n",
    "\n",
    "# Convertir las fechas a un formato legible\n",
    "dates = [date/1000 for date in dates]\n",
    "\n",
    "# Crear un gráfico de barras con plotly\n",
    "fig = go.Figure(data=[go.Candlestick(x=dates, open=prices, high=prices, low=prices, close=prices)])\n",
    "\n",
    "# Mostrar el gráfico en una ventana emergente\n",
    "fig.show()"
   ]
  },
  {
   "cell_type": "code",
   "execution_count": null,
   "id": "3b70d8ab",
   "metadata": {
    "scrolled": true
   },
   "outputs": [],
   "source": [
    "import talib\n",
    "import pandas as pd\n",
    "\n",
    "# cargar datos en un dataframe de Pandas\n",
    "df = pd.DataFrame({'Prices': prices, 'Dates': dates})\n",
    "\n",
    "\n",
    "# calcular promedios móviles de 50 y 200 días\n",
    "df['SMA_50'] = talib.SMA(df['Close'], timeperiod=50)\n",
    "df['SMA_200'] = talib.SMA(df['Close'], timeperiod=200)\n",
    "\n",
    "# calcular RSI\n",
    "df['RSI'] = talib.RSI(df['Close'], timeperiod=14)\n",
    "\n",
    "# calcular bandas de Bollinger\n",
    "upper, middle, lower = talib.BBANDS(df['Close'], timeperiod=20, nbdevup=2, nbdevdn=2)\n",
    "df['BB_UPPER'] = upper\n",
    "df['BB_MIDDLE'] = middle\n",
    "df['BB_LOWER'] = lower\n",
    "\n",
    "# calcular MACD\n",
    "macd, signal, hist = talib.MACD(df['Close'], fastperiod=12, slowperiod=26, signalperiod=9)\n",
    "df['MACD'] = macd\n",
    "df['MACD_SIGNAL'] = signal\n",
    "df['MACD_HIST'] = hist\n",
    "\n",
    "# calcular niveles de Fibonacci\n",
    "high = df['High'].max()\n",
    "low = df['Low'].min()\n",
    "diff = high - low\n",
    "df['FIB_23.6'] = high - (0.236 * diff)\n",
    "df['FIB_38.2'] = high - (0.382 * diff)\n",
    "df['FIB_50.0'] = high - (0.5 * diff)\n",
    "df['FIB_61.8'] = high - (0.618 * diff)\n",
    "df['FIB_78.6'] = high - (0.786 * diff)\n",
    "\n",
    "# imprimir los primeros 5 registros del dataframe\n",
    "df.head()"
   ]
  },
  {
   "cell_type": "code",
   "execution_count": null,
   "id": "34786421",
   "metadata": {},
   "outputs": [],
   "source": []
  },
  {
   "cell_type": "code",
   "execution_count": null,
   "id": "3f1121cf",
   "metadata": {},
   "outputs": [],
   "source": []
  }
 ],
 "metadata": {
  "kernelspec": {
   "display_name": "Python 3 (ipykernel)",
   "language": "python",
   "name": "python3"
  },
  "language_info": {
   "codemirror_mode": {
    "name": "ipython",
    "version": 3
   },
   "file_extension": ".py",
   "mimetype": "text/x-python",
   "name": "python",
   "nbconvert_exporter": "python",
   "pygments_lexer": "ipython3",
   "version": "3.7.8rc1"
  }
 },
 "nbformat": 4,
 "nbformat_minor": 5
}
